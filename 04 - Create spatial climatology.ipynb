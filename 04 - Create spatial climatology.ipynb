# author: Johannes L. Fjeldså
# email: johannes.larsen.fjeldså@nmbu.no

#%% Import libraries
