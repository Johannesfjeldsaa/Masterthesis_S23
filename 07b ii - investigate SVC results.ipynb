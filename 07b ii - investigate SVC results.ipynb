{
 "cells": [
  {
   "cell_type": "code",
   "execution_count": null,
   "metadata": {},
   "outputs": [
    {
     "ename": "",
     "evalue": "",
     "output_type": "error",
     "traceback": [
      "\u001b[1;31mThe kernel failed to start as a dll could not be loaded.\n",
      "\u001b[1;31mClick <a href='https://aka.ms/kernelFailuresDllLoad'>here</a> for more info."
     ]
    }
   ],
   "source": [
    "import pandas as pd\n",
    "import numpy as np\n",
    "import pickle\n",
    "\n",
    "from src.helperfunctions_ML import *\n",
    "\n",
    "scaled_cross_sections = open_cross_sections(scaled=True)\n",
    "\n",
    "\n",
    "nomask_features = ['fdETCCDI: nomask', 'gslETCCDI: nomask', 'pr: nomask', 'tas: nomask', 'txxETCCDI: nomask']\n",
    "boruta_RF_features = ['pr: nomask', 'pr: sea_mask', 'tas: land_mask', 'tas: nomask', 'tas: sea_mask', 'txxETCCDI: land_mask', 'txxETCCDI: nomask', 'txxETCCDI: sea_mask']\n",
    "mRMR_f_mut_features = ['fdETCCDI: nomask', 'gslETCCDI: nomask', 'tas: land_mask', 'tas: nomask', 'tas: sea_mask', 'txxETCCDI: land_mask', 'txxETCCDI: lat_mask_pm30deg', 'txxETCCDI: nomask', 'txxETCCDI: sea_mask', 'txxETCCDI: sea_mask_pm30deg']\n",
    "johannes_supervised_features = ['fdETCCDI: nomask', 'pr: nomask', 'pr: sea_mask', 'rx5dayETCCDI: land_mask', 'tas: nomask', 'txxETCCDI: sea_mask']\n",
    "\n",
    "feature_combinations = {\n",
    "    'nomask_baseline': nomask_features, \n",
    "    'boruta_RF_features': boruta_RF_features,\n",
    "    'mRMR_f_mut_features': mRMR_f_mut_features,\n",
    "    'johannes_supervised_features': johannes_supervised_features\n",
    "}\n",
    "\n",
    "years = list(range(2030, 2040))\n",
    "target_summaries, roc_information = run_classification_experiment(\n",
    "    cross_sections=scaled_cross_sections, \n",
    "    model_name='SVM', \n",
    "    feature_combinations=feature_combinations, \n",
    "    years=years, \n",
    "    seeds=[int(i) for i in range(2)], \n",
    "    include_ROC_analysis=True, roc_analysis_fq=5,\n",
    "    skip_tuning=True\n",
    "    )"
   ]
  },
  {
   "cell_type": "code",
   "execution_count": 3,
   "metadata": {},
   "outputs": [],
   "source": [
    "from sklearn.svm import SVC\n",
    "seed = 0\n",
    "model = SVC\n",
    "best_model = model(random_state=seed)\n"
   ]
  },
  {
   "cell_type": "code",
   "execution_count": 11,
   "metadata": {},
   "outputs": [
    {
     "ename": "ValueError",
     "evalue": "Unknown label type: 'unknown'",
     "output_type": "error",
     "traceback": [
      "\u001b[1;31m---------------------------------------------------------------------------\u001b[0m",
      "\u001b[1;31mValueError\u001b[0m                                Traceback (most recent call last)",
      "Cell \u001b[1;32mIn[11], line 10\u001b[0m\n\u001b[0;32m      6\u001b[0m y \u001b[38;5;241m=\u001b[39m cross_section_df[\u001b[38;5;124m'\u001b[39m\u001b[38;5;124mscenario_indx\u001b[39m\u001b[38;5;124m'\u001b[39m]\n\u001b[0;32m      8\u001b[0m X_train, X_test, y_train, y_test \u001b[38;5;241m=\u001b[39m train_test_split(X, y, test_size\u001b[38;5;241m=\u001b[39m\u001b[38;5;241m0.3\u001b[39m, random_state\u001b[38;5;241m=\u001b[39mseed)\n\u001b[1;32m---> 10\u001b[0m best_model\u001b[38;5;241m.\u001b[39mfit(X_train, y_train)\n",
      "File \u001b[1;32md:\\Python\\envs\\DataAnalysis\\Lib\\site-packages\\sklearnex\\svm\\svc.py:118\u001b[0m, in \u001b[0;36mSVC.fit\u001b[1;34m(self, X, y, sample_weight)\u001b[0m\n\u001b[0;32m    116\u001b[0m \u001b[38;5;28;01mif\u001b[39;00m sklearn_check_version(\u001b[38;5;124m\"\u001b[39m\u001b[38;5;124m1.0\u001b[39m\u001b[38;5;124m\"\u001b[39m):\n\u001b[0;32m    117\u001b[0m     \u001b[38;5;28mself\u001b[39m\u001b[38;5;241m.\u001b[39m_check_feature_names(X, reset\u001b[38;5;241m=\u001b[39m\u001b[38;5;28;01mTrue\u001b[39;00m)\n\u001b[1;32m--> 118\u001b[0m dispatch(\n\u001b[0;32m    119\u001b[0m     \u001b[38;5;28mself\u001b[39m,\n\u001b[0;32m    120\u001b[0m     \u001b[38;5;124m\"\u001b[39m\u001b[38;5;124mfit\u001b[39m\u001b[38;5;124m\"\u001b[39m,\n\u001b[0;32m    121\u001b[0m     {\n\u001b[0;32m    122\u001b[0m         \u001b[38;5;124m\"\u001b[39m\u001b[38;5;124monedal\u001b[39m\u001b[38;5;124m\"\u001b[39m: \u001b[38;5;28mself\u001b[39m\u001b[38;5;241m.\u001b[39m\u001b[38;5;18m__class__\u001b[39m\u001b[38;5;241m.\u001b[39m_onedal_fit,\n\u001b[0;32m    123\u001b[0m         \u001b[38;5;124m\"\u001b[39m\u001b[38;5;124msklearn\u001b[39m\u001b[38;5;124m\"\u001b[39m: sklearn_SVC\u001b[38;5;241m.\u001b[39mfit,\n\u001b[0;32m    124\u001b[0m     },\n\u001b[0;32m    125\u001b[0m     X,\n\u001b[0;32m    126\u001b[0m     y,\n\u001b[0;32m    127\u001b[0m     sample_weight,\n\u001b[0;32m    128\u001b[0m )\n\u001b[0;32m    129\u001b[0m \u001b[38;5;28;01mreturn\u001b[39;00m \u001b[38;5;28mself\u001b[39m\n",
      "File \u001b[1;32md:\\Python\\envs\\DataAnalysis\\Lib\\site-packages\\sklearnex\\_device_offload.py:189\u001b[0m, in \u001b[0;36mdispatch\u001b[1;34m(obj, method_name, branches, *args, **kwargs)\u001b[0m\n\u001b[0;32m    187\u001b[0m \u001b[38;5;28;01mif\u001b[39;00m backend \u001b[38;5;241m==\u001b[39m \u001b[38;5;124m\"\u001b[39m\u001b[38;5;124monedal\u001b[39m\u001b[38;5;124m\"\u001b[39m:\n\u001b[0;32m    188\u001b[0m     patching_status\u001b[38;5;241m.\u001b[39mwrite_log(queue\u001b[38;5;241m=\u001b[39mq)\n\u001b[1;32m--> 189\u001b[0m     \u001b[38;5;28;01mreturn\u001b[39;00m branches[backend](obj, \u001b[38;5;241m*\u001b[39mhostargs, \u001b[38;5;241m*\u001b[39m\u001b[38;5;241m*\u001b[39mhostkwargs, queue\u001b[38;5;241m=\u001b[39mq)\n\u001b[0;32m    190\u001b[0m \u001b[38;5;28;01mif\u001b[39;00m backend \u001b[38;5;241m==\u001b[39m \u001b[38;5;124m\"\u001b[39m\u001b[38;5;124msklearn\u001b[39m\u001b[38;5;124m\"\u001b[39m:\n\u001b[0;32m    191\u001b[0m     patching_status\u001b[38;5;241m.\u001b[39mwrite_log()\n",
      "File \u001b[1;32md:\\Python\\envs\\DataAnalysis\\Lib\\site-packages\\daal4py\\sklearn\\_utils.py:392\u001b[0m, in \u001b[0;36mrun_with_n_jobs.<locals>.method_wrapper\u001b[1;34m(self, *args, **kwargs)\u001b[0m\n\u001b[0;32m    389\u001b[0m \u001b[38;5;28;01mif\u001b[39;00m n_jobs \u001b[38;5;129;01mis\u001b[39;00m \u001b[38;5;28;01mNone\u001b[39;00m \u001b[38;5;129;01mor\u001b[39;00m n_jobs \u001b[38;5;241m==\u001b[39m \u001b[38;5;241m0\u001b[39m:\n\u001b[0;32m    390\u001b[0m     \u001b[38;5;28;01mif\u001b[39;00m n_threads \u001b[38;5;129;01mis\u001b[39;00m \u001b[38;5;28;01mNone\u001b[39;00m:\n\u001b[0;32m    391\u001b[0m         \u001b[38;5;66;03m# default branch with no setting for n_jobs\u001b[39;00m\n\u001b[1;32m--> 392\u001b[0m         \u001b[38;5;28;01mreturn\u001b[39;00m method(\u001b[38;5;28mself\u001b[39m, \u001b[38;5;241m*\u001b[39margs, \u001b[38;5;241m*\u001b[39m\u001b[38;5;241m*\u001b[39mkwargs)\n\u001b[0;32m    393\u001b[0m     \u001b[38;5;28;01melse\u001b[39;00m:\n\u001b[0;32m    394\u001b[0m         n_jobs \u001b[38;5;241m=\u001b[39m n_threads\n",
      "File \u001b[1;32md:\\Python\\envs\\DataAnalysis\\Lib\\site-packages\\sklearnex\\svm\\svc.py:279\u001b[0m, in \u001b[0;36mSVC._onedal_fit\u001b[1;34m(self, X, y, sample_weight, queue)\u001b[0m\n\u001b[0;32m    263\u001b[0m onedal_params \u001b[38;5;241m=\u001b[39m {\n\u001b[0;32m    264\u001b[0m     \u001b[38;5;124m\"\u001b[39m\u001b[38;5;124mC\u001b[39m\u001b[38;5;124m\"\u001b[39m: \u001b[38;5;28mself\u001b[39m\u001b[38;5;241m.\u001b[39mC,\n\u001b[0;32m    265\u001b[0m     \u001b[38;5;124m\"\u001b[39m\u001b[38;5;124mkernel\u001b[39m\u001b[38;5;124m\"\u001b[39m: \u001b[38;5;28mself\u001b[39m\u001b[38;5;241m.\u001b[39mkernel,\n\u001b[1;32m   (...)\u001b[0m\n\u001b[0;32m    275\u001b[0m     \u001b[38;5;124m\"\u001b[39m\u001b[38;5;124mdecision_function_shape\u001b[39m\u001b[38;5;124m\"\u001b[39m: \u001b[38;5;28mself\u001b[39m\u001b[38;5;241m.\u001b[39mdecision_function_shape,\n\u001b[0;32m    276\u001b[0m }\n\u001b[0;32m    278\u001b[0m \u001b[38;5;28mself\u001b[39m\u001b[38;5;241m.\u001b[39m_onedal_estimator \u001b[38;5;241m=\u001b[39m onedal_SVC(\u001b[38;5;241m*\u001b[39m\u001b[38;5;241m*\u001b[39monedal_params)\n\u001b[1;32m--> 279\u001b[0m \u001b[38;5;28mself\u001b[39m\u001b[38;5;241m.\u001b[39m_onedal_estimator\u001b[38;5;241m.\u001b[39mfit(X, y, sample_weight, queue\u001b[38;5;241m=\u001b[39mqueue)\n\u001b[0;32m    281\u001b[0m \u001b[38;5;28;01mif\u001b[39;00m \u001b[38;5;28mself\u001b[39m\u001b[38;5;241m.\u001b[39mprobability:\n\u001b[0;32m    282\u001b[0m     \u001b[38;5;28mself\u001b[39m\u001b[38;5;241m.\u001b[39m_fit_proba(X, y, sample_weight, queue\u001b[38;5;241m=\u001b[39mqueue)\n",
      "File \u001b[1;32md:\\Python\\envs\\DataAnalysis\\Lib\\site-packages\\onedal\\svm\\svm.py:529\u001b[0m, in \u001b[0;36mSVC.fit\u001b[1;34m(self, X, y, sample_weight, queue)\u001b[0m\n\u001b[0;32m    528\u001b[0m \u001b[38;5;28;01mdef\u001b[39;00m \u001b[38;5;21mfit\u001b[39m(\u001b[38;5;28mself\u001b[39m, X, y, sample_weight\u001b[38;5;241m=\u001b[39m\u001b[38;5;28;01mNone\u001b[39;00m, queue\u001b[38;5;241m=\u001b[39m\u001b[38;5;28;01mNone\u001b[39;00m):\n\u001b[1;32m--> 529\u001b[0m     \u001b[38;5;28;01mreturn\u001b[39;00m \u001b[38;5;28msuper\u001b[39m()\u001b[38;5;241m.\u001b[39m_fit(X, y, sample_weight, _backend\u001b[38;5;241m.\u001b[39msvm\u001b[38;5;241m.\u001b[39mclassification, queue)\n",
      "File \u001b[1;32md:\\Python\\envs\\DataAnalysis\\Lib\\site-packages\\onedal\\svm\\svm.py:263\u001b[0m, in \u001b[0;36mBaseSVM._fit\u001b[1;34m(self, X, y, sample_weight, module, queue)\u001b[0m\n\u001b[0;32m    252\u001b[0m         \u001b[38;5;28;01mraise\u001b[39;00m \u001b[38;5;167;01mValueError\u001b[39;00m(\n\u001b[0;32m    253\u001b[0m             \u001b[38;5;124mf\u001b[39m\u001b[38;5;124m\"\u001b[39m\u001b[38;5;124mThis \u001b[39m\u001b[38;5;132;01m{\u001b[39;00m\u001b[38;5;28mself\u001b[39m\u001b[38;5;241m.\u001b[39m\u001b[38;5;18m__class__\u001b[39m\u001b[38;5;241m.\u001b[39m\u001b[38;5;18m__name__\u001b[39m\u001b[38;5;132;01m}\u001b[39;00m\u001b[38;5;124m estimator \u001b[39m\u001b[38;5;124m\"\u001b[39m\n\u001b[0;32m    254\u001b[0m             \u001b[38;5;124mf\u001b[39m\u001b[38;5;124m\"\u001b[39m\u001b[38;5;124mrequires y to be passed, but the target y is None.\u001b[39m\u001b[38;5;124m\"\u001b[39m\n\u001b[0;32m    255\u001b[0m         )\n\u001b[0;32m    256\u001b[0m X, y \u001b[38;5;241m=\u001b[39m _check_X_y(\n\u001b[0;32m    257\u001b[0m     X,\n\u001b[0;32m    258\u001b[0m     y,\n\u001b[1;32m   (...)\u001b[0m\n\u001b[0;32m    261\u001b[0m     accept_sparse\u001b[38;5;241m=\u001b[39m\u001b[38;5;124m\"\u001b[39m\u001b[38;5;124mcsr\u001b[39m\u001b[38;5;124m\"\u001b[39m,\n\u001b[0;32m    262\u001b[0m )\n\u001b[1;32m--> 263\u001b[0m y \u001b[38;5;241m=\u001b[39m \u001b[38;5;28mself\u001b[39m\u001b[38;5;241m.\u001b[39m_validate_targets(y, X\u001b[38;5;241m.\u001b[39mdtype)\n\u001b[0;32m    264\u001b[0m sample_weight \u001b[38;5;241m=\u001b[39m \u001b[38;5;28mself\u001b[39m\u001b[38;5;241m.\u001b[39m_get_sample_weight(X, y, sample_weight)\n\u001b[0;32m    266\u001b[0m \u001b[38;5;28mself\u001b[39m\u001b[38;5;241m.\u001b[39m_sparse \u001b[38;5;241m=\u001b[39m sp\u001b[38;5;241m.\u001b[39missparse(X)\n",
      "File \u001b[1;32md:\\Python\\envs\\DataAnalysis\\Lib\\site-packages\\onedal\\svm\\svm.py:523\u001b[0m, in \u001b[0;36mSVC._validate_targets\u001b[1;34m(self, y, dtype)\u001b[0m\n\u001b[0;32m    522\u001b[0m \u001b[38;5;28;01mdef\u001b[39;00m \u001b[38;5;21m_validate_targets\u001b[39m(\u001b[38;5;28mself\u001b[39m, y, dtype):\n\u001b[1;32m--> 523\u001b[0m     y, \u001b[38;5;28mself\u001b[39m\u001b[38;5;241m.\u001b[39mclass_weight_, \u001b[38;5;28mself\u001b[39m\u001b[38;5;241m.\u001b[39mclasses_ \u001b[38;5;241m=\u001b[39m _validate_targets(\n\u001b[0;32m    524\u001b[0m         y, \u001b[38;5;28mself\u001b[39m\u001b[38;5;241m.\u001b[39mclass_weight, dtype\n\u001b[0;32m    525\u001b[0m     )\n\u001b[0;32m    526\u001b[0m     \u001b[38;5;28;01mreturn\u001b[39;00m y\n",
      "File \u001b[1;32md:\\Python\\envs\\DataAnalysis\\Lib\\site-packages\\onedal\\utils\\validation.py:104\u001b[0m, in \u001b[0;36m_validate_targets\u001b[1;34m(y, class_weight, dtype)\u001b[0m\n\u001b[0;32m    102\u001b[0m \u001b[38;5;28;01mdef\u001b[39;00m \u001b[38;5;21m_validate_targets\u001b[39m(y, class_weight, dtype):\n\u001b[0;32m    103\u001b[0m     y_ \u001b[38;5;241m=\u001b[39m _column_or_1d(y, warn\u001b[38;5;241m=\u001b[39m\u001b[38;5;28;01mTrue\u001b[39;00m)\n\u001b[1;32m--> 104\u001b[0m     _check_classification_targets(y)\n\u001b[0;32m    105\u001b[0m     classes, y \u001b[38;5;241m=\u001b[39m np\u001b[38;5;241m.\u001b[39munique(y_, return_inverse\u001b[38;5;241m=\u001b[39m\u001b[38;5;28;01mTrue\u001b[39;00m)\n\u001b[0;32m    106\u001b[0m     class_weight_res \u001b[38;5;241m=\u001b[39m _compute_class_weight(class_weight, classes\u001b[38;5;241m=\u001b[39mclasses, y\u001b[38;5;241m=\u001b[39my_)\n",
      "File \u001b[1;32md:\\Python\\envs\\DataAnalysis\\Lib\\site-packages\\onedal\\utils\\validation.py:213\u001b[0m, in \u001b[0;36m_check_classification_targets\u001b[1;34m(y)\u001b[0m\n\u001b[0;32m    205\u001b[0m y_type \u001b[38;5;241m=\u001b[39m _type_of_target(y)\n\u001b[0;32m    206\u001b[0m \u001b[38;5;28;01mif\u001b[39;00m y_type \u001b[38;5;129;01mnot\u001b[39;00m \u001b[38;5;129;01min\u001b[39;00m [\n\u001b[0;32m    207\u001b[0m     \u001b[38;5;124m\"\u001b[39m\u001b[38;5;124mbinary\u001b[39m\u001b[38;5;124m\"\u001b[39m,\n\u001b[0;32m    208\u001b[0m     \u001b[38;5;124m\"\u001b[39m\u001b[38;5;124mmulticlass\u001b[39m\u001b[38;5;124m\"\u001b[39m,\n\u001b[1;32m   (...)\u001b[0m\n\u001b[0;32m    211\u001b[0m     \u001b[38;5;124m\"\u001b[39m\u001b[38;5;124mmultilabel-sequences\u001b[39m\u001b[38;5;124m\"\u001b[39m,\n\u001b[0;32m    212\u001b[0m ]:\n\u001b[1;32m--> 213\u001b[0m     \u001b[38;5;28;01mraise\u001b[39;00m \u001b[38;5;167;01mValueError\u001b[39;00m(\u001b[38;5;124m\"\u001b[39m\u001b[38;5;124mUnknown label type: \u001b[39m\u001b[38;5;132;01m%r\u001b[39;00m\u001b[38;5;124m\"\u001b[39m \u001b[38;5;241m%\u001b[39m y_type)\n",
      "\u001b[1;31mValueError\u001b[0m: Unknown label type: 'unknown'"
     ]
    }
   ],
   "source": [
    "nomask_features = ['fdETCCDI: nomask', 'gslETCCDI: nomask', 'pr: nomask', 'tas: nomask', 'txxETCCDI: nomask']\n",
    "\n",
    "cross_section_df = scaled_cross_sections[2030] \n",
    "\n",
    "X = cross_section_df[nomask_features]\n",
    "y = cross_section_df['scenario_indx']\n",
    "\n",
    "X_train, X_test, y_train, y_test = train_test_split(X, y, test_size=0.3, random_state=seed)\n",
    "\n",
    "best_model.fit(X_train, y_train)"
   ]
  }
 ],
 "metadata": {
  "kernelspec": {
   "display_name": "DataAnalysis",
   "language": "python",
   "name": "python3"
  },
  "language_info": {
   "codemirror_mode": {
    "name": "ipython",
    "version": 3
   },
   "file_extension": ".py",
   "mimetype": "text/x-python",
   "name": "python",
   "nbconvert_exporter": "python",
   "pygments_lexer": "ipython3",
   "version": "3.11.8"
  }
 },
 "nbformat": 4,
 "nbformat_minor": 2
}
